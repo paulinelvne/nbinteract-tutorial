{
 "cells": [
  {
   "cell_type": "code",
   "execution_count": null,
   "metadata": {},
   "outputs": [],
   "source": [
    "#nbi:hide_in\n",
    "#nbi:hide_out\n",
    "!pip3 install matplotlib\n",
    "!pip3 install keras\n",
    "!pip3 install spectral\n",
    "!pip3 install seaborn\n",
    "!pip3 install scikit-image\n",
    "!pip3 install tensorflow\n",
    "!pip3 install sklearn"
   ]
  },
  {
   "cell_type": "code",
   "execution_count": 1,
   "metadata": {},
   "outputs": [],
   "source": [
    "#nbi:hide_in\n",
    "%matplotlib inline\n",
    "import spectral as sp\n",
    "import pandas as pd\n",
    "import numpy as np\n",
    "import seaborn as sns\n",
    "import matplotlib.pyplot as plt\n",
    "from spectrum import rank_normalizer,scale_max_min,scale_white_dark,plot_spectra,zoom\n",
    "from spectrum_ml import cluster_pixels_kmeans,detect_aphid,blob_detector\n",
    "from ipywidgets import interact, interactive, widgets\n",
    "from IPython.display import display\n",
    "import io\n",
    "import os"
   ]
  },
  {
   "cell_type": "code",
   "execution_count": null,
   "metadata": {},
   "outputs": [],
   "source": [
    "chemin = widgets.Text()\n",
    "\n",
    "options = {\n",
    "    'title': 'Chemin_spectral',\n",
    "}\n",
    "\n",
    "def chm(x):\n",
    "    chemin.value = str(x)\n",
    "\n",
    "ch = interactive(chm, x = './home/jovyan/VL1grF/capture/', options = options)"
   ]
  },
  {
   "cell_type": "code",
   "execution_count": null,
   "metadata": {},
   "outputs": [],
   "source": [
    "display(ch)"
   ]
  },
  {
   "cell_type": "code",
   "execution_count": null,
   "metadata": {},
   "outputs": [],
   "source": [
    "def on_button_clicked1(b):\n",
    "    with output1:\n",
    "        output1.clear_output()\n",
    "        os.environ['KMP_DUPLICATE_LIB_OK']='True'\n",
    "        os.environ['SPECTRAL_DATA'] = chemin.value\n",
    "        print(chemin.value)"
   ]
  },
  {
   "cell_type": "code",
   "execution_count": null,
   "metadata": {},
   "outputs": [],
   "source": [
    "button1 = widgets.Button(description=\"Rechargez l'environnement\")\n",
    "output1 = widgets.Output()\n",
    "display(button1, output1)\n",
    "\n",
    "button1.on_click(on_button_clicked1)"
   ]
  },
  {
   "cell_type": "code",
   "execution_count": null,
   "metadata": {},
   "outputs": [],
   "source": [
    "wl = widgets.FileUpload(\n",
    "    accept='',  # A/home/plavainne/Documents/BIM/06022020/06022020/VL1grF/ccepted file extension e.g. '.txt', '.pdf', 'image/*', 'image/*,.pdf'\n",
    "    multiple=False,  # True to accept multiple files upload else False\n",
    "    description = 'Wave_Length'\n",
    "    #command = ouvrir_csv()\n",
    "    #value=pd.read_csv\n",
    ")\n",
    "\n",
    "display(wl)"
   ]
  },
  {
   "cell_type": "code",
   "execution_count": null,
   "metadata": {},
   "outputs": [],
   "source": [
    "# Create text widget for output\n",
    "exp_name1 = widgets.Text()\n",
    "exp_name2 = widgets.Text()\n",
    "exp_name3 = widgets.Text()"
   ]
  },
  {
   "cell_type": "code",
   "execution_count": null,
   "metadata": {},
   "outputs": [],
   "source": [
    "!pwd"
   ]
  },
  {
   "cell_type": "code",
   "execution_count": null,
   "metadata": {},
   "outputs": [],
   "source": [
    "options1 = {\n",
    "    'title': 'Exp_name',\n",
    "}\n",
    "\n",
    "options2 = {\n",
    "    'title': 'Dark Ref',\n",
    "}\n",
    "\n",
    "options3 = {\n",
    "    'title': 'White Ref',\n",
    "}"
   ]
  },
  {
   "cell_type": "code",
   "execution_count": null,
   "metadata": {},
   "outputs": [],
   "source": [
    "# Define function to bind value of the input to the output variable \n",
    "def name1(x):\n",
    "    exp_name1.value = str(x)\n",
    "\n",
    "def name2(x):\n",
    "    exp_name2.value = str(x)\n",
    "    \n",
    "def name3(x):\n",
    "    exp_name3.value = str(x)"
   ]
  },
  {
   "cell_type": "code",
   "execution_count": null,
   "metadata": {},
   "outputs": [],
   "source": [
    "en1 = interactive(name1, x = \"VL1grF\", options = options1)\n",
    "en2 = interactive(name2, x = \"DARKREF_VL1grF\", options = options2)\n",
    "en3 = interactive(name3, x = \"WHITEREF_VL1grF\", options = options3)"
   ]
  },
  {
   "cell_type": "code",
   "execution_count": null,
   "metadata": {},
   "outputs": [],
   "source": [
    "display(en1, options = options1)"
   ]
  },
  {
   "cell_type": "code",
   "execution_count": null,
   "metadata": {},
   "outputs": [],
   "source": [
    "display(en2, options = options2)"
   ]
  },
  {
   "cell_type": "code",
   "execution_count": null,
   "metadata": {},
   "outputs": [],
   "source": [
    "display(en3, options = options3)"
   ]
  },
  {
   "cell_type": "code",
   "execution_count": null,
   "metadata": {},
   "outputs": [],
   "source": [
    "def on_button_clicked2(b):\n",
    "    with output2:\n",
    "        \n",
    "        output2.clear_output()\n",
    "        wave_lengths = pd.read_csv(io.BytesIO(wl.value[list(wl.value.keys())[0]]['content']), header=None, index_col=0)\n",
    "        image_path = exp_name1.value + '.hdr'#current_dir.value+exp_name1.value+'/capture/'+exp_name1.value+'.hdr'\n",
    "        dark_ref_path = exp_name2.value + '.hdr'#current_dir.value+exp_name.value+'/capture/DARKREF_'+exp_name.value+'.hdr'\n",
    "        white_ref_path = exp_name3.value + '.hdr'#current_dir.value+exp_name.value+'/capture/WHITEREF_'+exp_name.value+'.hdr'\n",
    "        \n",
    "        image_name = exp_name1.value + '.raw'#current_dir.value+exp_name1.value+'/capture/'+exp_name1.value+'.hdr'\n",
    "        dark_ref_name = exp_name2.value + '.raw' #current_dir.value+exp_name.value+'/capture/DARKREF_'+exp_name.value+'.hdr'\n",
    "        white_ref_name = exp_name3.value + '.raw' #current_dir.value+exp_name.value+'/capture/WHITEREF_'+exp_name.value+'.hdr'\n",
    "        \n",
    "        img = sp.envi.open(image_path)\n",
    "\n",
    "        dark_ref = sp.open_image(dark_ref_path)#, dark_ref_name)\n",
    "        dark_spectrum = dark_ref.asarray().reshape(-1,dark_ref.shape[2]).mean(axis=0)\n",
    "\n",
    "        white_ref = sp.open_image(white_ref_path)#, white_ref_name)\n",
    "        white_spectrum = white_ref.asarray().reshape(-1,white_ref.shape[2]).mean(axis=0)\n",
    "        \n",
    "        img_norm = scale_white_dark(img.asarray(),dark_spectrum=dark_spectrum,white_spectrum=white_spectrum)\n",
    "        img_norm = scale_max_min(img_norm)\n",
    "        \n",
    "        img_norm_reshape = img_norm.reshape(-1,img_norm.shape[-1])\n",
    "        \n",
    "        print(img.shape)\n",
    "        plot_spectra(img,  wave_lengths=(29,113,227), grid_step=20)\n",
    "        plt.show()\n",
    "        \n",
    "        pixels_sample = img_norm_reshape[np.random.choice(img_norm_reshape.shape[0], 5000, replace=False)]\n",
    "        km = cluster_pixels_kmeans(pixels_sample,10)\n",
    "        \n",
    "        c = km.predict(img_norm_reshape)\n",
    "        sns.heatmap(c.reshape(img_norm.shape[:2]),cmap='Paired')\n",
    "        plt.show()\n",
    "        \n",
    "        cluster_scores = detect_aphid(km.cluster_centers_,\n",
    "                 model_files=[\"ML_models/model_vae_1Dconv\"],\n",
    "                 svm_model_pf='ML_models/SVM_pf_rank.model',\n",
    "                 svm_model_p='ML_models/SVM_p_rank.model')\n",
    "        \n",
    "        best_cluster = np.argmax(cluster_scores)\n",
    "        ############################################\n",
    "        # Changer le cluster si besoin\n",
    "        #best_cluster = 0\n",
    "        ############################################\n",
    "        print(best_cluster)\n",
    "        \n",
    "        \n",
    "        plt.plot(cluster_scores,\"o\")\n",
    "        plt.xlabel(\"Cluster ID\")\n",
    "        plt.ylabel(\"Aphid Score\")\n",
    "        plt.show()\n",
    "        \n",
    "        sns.heatmap((c==best_cluster).reshape(img_norm.shape[:2]))\n",
    "        plt.show()\n",
    "        \n",
    "        chosen_pixels = img_norm_reshape[(c==best_cluster)]\n",
    "        scores_aphids = detect_aphid(chosen_pixels,\n",
    "                             model_files=[\"ML_models/model_vae_1Dconv\"],\n",
    "                             svm_model_pf='ML_models/SVM_pf_rank.model',\n",
    "                             svm_model_p='ML_models/SVM_p_rank.model')\n",
    "        \n",
    "        sns.violinplot(scores_aphids)\n",
    "        plt.xlabel(\"Aphid score\")\n",
    "        plt.show()\n",
    "        \n",
    "        cc = pd.Series(c.copy())\n",
    "        cc[c!=best_cluster] = 0\n",
    "        cc[c==best_cluster] = 1\n",
    "        cc[c==best_cluster] *= scores_aphids\n",
    "        #cc2 = cc >0.7#> np.percentile(cc,99.9)\n",
    "        \n",
    "        sns.heatmap(cc.values.reshape(img_norm.shape[:2]))\n",
    "        #sns.heatmap(cc2.values.reshape(img_norm.shape[:2]))\n",
    "        plt.show()\n"
   ]
  },
  {
   "cell_type": "code",
   "execution_count": null,
   "metadata": {},
   "outputs": [],
   "source": [
    "button2 = widgets.Button(description=\"Rechargez les donnees\")\n",
    "output2 = widgets.Output()\n",
    "display(button2, output2)\n",
    "\n",
    "button2.on_click(on_button_clicked2)"
   ]
  },
  {
   "cell_type": "code",
   "execution_count": null,
   "metadata": {},
   "outputs": [],
   "source": []
  },
  {
   "cell_type": "code",
   "execution_count": null,
   "metadata": {},
   "outputs": [],
   "source": []
  },
  {
   "cell_type": "code",
   "execution_count": 9,
   "metadata": {},
   "outputs": [],
   "source": [
    "from tkinter import Button\n",
    "from tkinter import Label\n",
    "from tkinter import StringVar\n",
    "from tkinter import Tk\n",
    "from tkinter.filedialog import askopenfilename\n",
    "import os, os.path\n",
    "\n",
    " \n",
    "def on_button_clicked3(b):\n",
    "    with output3:\n",
    "        !echo ${DISPLAY}\n",
    "        !grep \"# AutomaticLogin\" /etc/gdm3/custom.conf >/dev/null && export ${DISPLAY}=\":1\" || export ${DISPLAY}=\":0\"\n",
    "        #os.environ['${DISPLAY}']\n",
    "        print(os.environ.items())\n",
    "        os.environ['QT_QPA_PLATFORM']='offscreen'\n",
    "        os.environ['${DISPLAY}']= ':0.0'\n",
    "        \n",
    "        !export ${DISPLAY}=:0.0\n",
    "        \n",
    "        if os.environ.get('${DISPLAY}','') == '':\n",
    "            print('no display found. Using :0.0')\n",
    "            os.environ.__setitem__('${DISPLAY}', ':0.0')\n",
    "  \n",
    "        FILETYPES = [ (\"All files\", \"*\") ]\n",
    "\n",
    "\n",
    "\n",
    "        root = Tk()\n",
    "\n",
    "        filename = StringVar(root)\n",
    "\n",
    "\n",
    "\n",
    "        label = Label(root, textvariable=filename)\n",
    "        label.pack()\n",
    "\n",
    "\n",
    "\n",
    "         #def set_filename():\n",
    "            #filename.set(sp.open_image(askopenfilename(filetypes=FILETYPES)))\n",
    "            #print(filename)\n",
    "            #dark_ref = sp.open_image(askopenfilename(filetypes=FILETYPES))\n",
    "            #filename.set(askopenfilename(filetypes=FILETYPES))\n",
    "            \n",
    "\n",
    "        #button = Button(root, text='Open', command=set_filename)\n",
    "        #button.pack()\n",
    "        dark_ref = sp.open_image(askopenfilename(filetypes=FILETYPES))\n",
    "        root.mainloop()\n",
    "        \n",
    "        print(dark_ref)\n"
   ]
  },
  {
   "cell_type": "code",
   "execution_count": 10,
   "metadata": {},
   "outputs": [
    {
     "data": {
      "application/vnd.jupyter.widget-view+json": {
       "model_id": "cd070d07af054ec095b3a2291b06e3f7",
       "version_major": 2,
       "version_minor": 0
      },
      "text/plain": [
       "Button(description='Rechargez les donnees', style=ButtonStyle())"
      ]
     },
     "metadata": {},
     "output_type": "display_data"
    },
    {
     "data": {
      "application/vnd.jupyter.widget-view+json": {
       "model_id": "02f62dee596a45daa5a50bf37b5e1e07",
       "version_major": 2,
       "version_minor": 0
      },
      "text/plain": [
       "Output()"
      ]
     },
     "metadata": {},
     "output_type": "display_data"
    }
   ],
   "source": [
    "button3 = widgets.Button(description=\"Rechargez les donnees\")\n",
    "output3 = widgets.Output()\n",
    "display(button3, output3)\n",
    "\n",
    "button3.on_click(on_button_clicked3)"
   ]
  },
  {
   "cell_type": "code",
   "execution_count": null,
   "metadata": {},
   "outputs": [],
   "source": [
    "os.environ['DISPLAY']"
   ]
  },
  {
   "cell_type": "code",
   "execution_count": null,
   "metadata": {},
   "outputs": [],
   "source": []
  }
 ],
 "metadata": {
  "kernelspec": {
   "display_name": "Python 3",
   "language": "python",
   "name": "python3"
  },
  "language_info": {
   "codemirror_mode": {
    "name": "ipython",
    "version": 3
   },
   "file_extension": ".py",
   "mimetype": "text/x-python",
   "name": "python",
   "nbconvert_exporter": "python",
   "pygments_lexer": "ipython3",
   "version": "3.7.3"
  }
 },
 "nbformat": 4,
 "nbformat_minor": 2
}
