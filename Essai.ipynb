{
 "cells": [
  {
   "cell_type": "code",
   "execution_count": 1,
   "metadata": {},
   "outputs": [
    {
     "name": "stdout",
     "output_type": "stream",
     "text": [
      "WARNING: pip is being invoked by an old script wrapper. This will fail in a future version of pip.\n",
      "Please see https://github.com/pypa/pip/issues/5599 for advice on fixing the underlying issue.\n",
      "To avoid this problem you can invoke Python with '-m pip' instead of running pip directly.\n",
      "/usr/lib/python3/dist-packages/secretstorage/dhcrypto.py:15: CryptographyDeprecationWarning: int_from_bytes is deprecated, use int.from_bytes instead\n",
      "  from cryptography.utils import int_from_bytes\n",
      "/usr/lib/python3/dist-packages/secretstorage/util.py:19: CryptographyDeprecationWarning: int_from_bytes is deprecated, use int.from_bytes instead\n",
      "  from cryptography.utils import int_from_bytes\n",
      "Defaulting to user installation because normal site-packages is not writeable\n",
      "Requirement already satisfied: matplotlib in /home/plavainne/.local/lib/python3.7/site-packages (3.3.4)\n",
      "Requirement already satisfied: pillow>=6.2.0 in /home/plavainne/.local/lib/python3.7/site-packages (from matplotlib) (8.1.2)\n",
      "Requirement already satisfied: numpy>=1.15 in /home/plavainne/.local/lib/python3.7/site-packages (from matplotlib) (1.20.1)\n",
      "Requirement already satisfied: kiwisolver>=1.0.1 in /home/plavainne/.local/lib/python3.7/site-packages (from matplotlib) (1.3.1)\n",
      "Requirement already satisfied: cycler>=0.10 in /home/plavainne/.local/lib/python3.7/site-packages (from matplotlib) (0.10.0)\n",
      "Requirement already satisfied: pyparsing!=2.0.4,!=2.1.2,!=2.1.6,>=2.0.3 in /home/plavainne/.local/lib/python3.7/site-packages (from matplotlib) (2.4.7)\n",
      "Requirement already satisfied: python-dateutil>=2.1 in /home/plavainne/.local/lib/python3.7/site-packages (from matplotlib) (2.8.1)\n",
      "Requirement already satisfied: six in /home/plavainne/.local/lib/python3.7/site-packages (from cycler>=0.10->matplotlib) (1.15.0)\n",
      "WARNING: pip is being invoked by an old script wrapper. This will fail in a future version of pip.\n",
      "Please see https://github.com/pypa/pip/issues/5599 for advice on fixing the underlying issue.\n",
      "To avoid this problem you can invoke Python with '-m pip' instead of running pip directly.\n",
      "/usr/lib/python3/dist-packages/secretstorage/dhcrypto.py:15: CryptographyDeprecationWarning: int_from_bytes is deprecated, use int.from_bytes instead\n",
      "  from cryptography.utils import int_from_bytes\n",
      "/usr/lib/python3/dist-packages/secretstorage/util.py:19: CryptographyDeprecationWarning: int_from_bytes is deprecated, use int.from_bytes instead\n",
      "  from cryptography.utils import int_from_bytes\n",
      "Defaulting to user installation because normal site-packages is not writeable\n",
      "Requirement already satisfied: keras in /home/plavainne/.local/lib/python3.7/site-packages (2.4.3)\n",
      "Requirement already satisfied: numpy>=1.9.1 in /home/plavainne/.local/lib/python3.7/site-packages (from keras) (1.20.1)\n",
      "Requirement already satisfied: h5py in /home/plavainne/.local/lib/python3.7/site-packages (from keras) (2.10.0)\n",
      "Requirement already satisfied: pyyaml in /home/plavainne/.local/lib/python3.7/site-packages (from keras) (5.4.1)\n",
      "Requirement already satisfied: scipy>=0.14 in /home/plavainne/.local/lib/python3.7/site-packages (from keras) (1.4.1)\n",
      "Requirement already satisfied: six in /home/plavainne/.local/lib/python3.7/site-packages (from h5py->keras) (1.15.0)\n",
      "WARNING: pip is being invoked by an old script wrapper. This will fail in a future version of pip.\n",
      "Please see https://github.com/pypa/pip/issues/5599 for advice on fixing the underlying issue.\n",
      "To avoid this problem you can invoke Python with '-m pip' instead of running pip directly.\n",
      "/usr/lib/python3/dist-packages/secretstorage/dhcrypto.py:15: CryptographyDeprecationWarning: int_from_bytes is deprecated, use int.from_bytes instead\n",
      "  from cryptography.utils import int_from_bytes\n",
      "/usr/lib/python3/dist-packages/secretstorage/util.py:19: CryptographyDeprecationWarning: int_from_bytes is deprecated, use int.from_bytes instead\n",
      "  from cryptography.utils import int_from_bytes\n",
      "Defaulting to user installation because normal site-packages is not writeable\n",
      "Requirement already satisfied: spectral in /home/plavainne/.local/lib/python3.7/site-packages (0.22.1)\n",
      "Requirement already satisfied: numpy in /home/plavainne/.local/lib/python3.7/site-packages (from spectral) (1.20.1)\n",
      "WARNING: pip is being invoked by an old script wrapper. This will fail in a future version of pip.\n",
      "Please see https://github.com/pypa/pip/issues/5599 for advice on fixing the underlying issue.\n",
      "To avoid this problem you can invoke Python with '-m pip' instead of running pip directly.\n",
      "/usr/lib/python3/dist-packages/secretstorage/dhcrypto.py:15: CryptographyDeprecationWarning: int_from_bytes is deprecated, use int.from_bytes instead\n",
      "  from cryptography.utils import int_from_bytes\n",
      "/usr/lib/python3/dist-packages/secretstorage/util.py:19: CryptographyDeprecationWarning: int_from_bytes is deprecated, use int.from_bytes instead\n",
      "  from cryptography.utils import int_from_bytes\n",
      "Defaulting to user installation because normal site-packages is not writeable\n",
      "Requirement already satisfied: seaborn in /home/plavainne/.local/lib/python3.7/site-packages (0.11.1)\n",
      "Requirement already satisfied: numpy>=1.15 in /home/plavainne/.local/lib/python3.7/site-packages (from seaborn) (1.20.1)\n",
      "Requirement already satisfied: pandas>=0.23 in /home/plavainne/.local/lib/python3.7/site-packages (from seaborn) (1.2.3)\n",
      "Requirement already satisfied: scipy>=1.0 in /home/plavainne/.local/lib/python3.7/site-packages (from seaborn) (1.4.1)\n",
      "Requirement already satisfied: matplotlib>=2.2 in /home/plavainne/.local/lib/python3.7/site-packages (from seaborn) (3.3.4)\n",
      "Requirement already satisfied: kiwisolver>=1.0.1 in /home/plavainne/.local/lib/python3.7/site-packages (from matplotlib>=2.2->seaborn) (1.3.1)\n",
      "Requirement already satisfied: python-dateutil>=2.1 in /home/plavainne/.local/lib/python3.7/site-packages (from matplotlib>=2.2->seaborn) (2.8.1)\n",
      "Requirement already satisfied: pyparsing!=2.0.4,!=2.1.2,!=2.1.6,>=2.0.3 in /home/plavainne/.local/lib/python3.7/site-packages (from matplotlib>=2.2->seaborn) (2.4.7)\n",
      "Requirement already satisfied: cycler>=0.10 in /home/plavainne/.local/lib/python3.7/site-packages (from matplotlib>=2.2->seaborn) (0.10.0)\n",
      "Requirement already satisfied: pillow>=6.2.0 in /home/plavainne/.local/lib/python3.7/site-packages (from matplotlib>=2.2->seaborn) (8.1.2)\n",
      "Requirement already satisfied: six in /home/plavainne/.local/lib/python3.7/site-packages (from cycler>=0.10->matplotlib>=2.2->seaborn) (1.15.0)\n",
      "Requirement already satisfied: pytz>=2017.3 in /home/plavainne/.local/lib/python3.7/site-packages (from pandas>=0.23->seaborn) (2021.1)\n",
      "WARNING: pip is being invoked by an old script wrapper. This will fail in a future version of pip.\n",
      "Please see https://github.com/pypa/pip/issues/5599 for advice on fixing the underlying issue.\n",
      "To avoid this problem you can invoke Python with '-m pip' instead of running pip directly.\n",
      "/usr/lib/python3/dist-packages/secretstorage/dhcrypto.py:15: CryptographyDeprecationWarning: int_from_bytes is deprecated, use int.from_bytes instead\n",
      "  from cryptography.utils import int_from_bytes\n",
      "/usr/lib/python3/dist-packages/secretstorage/util.py:19: CryptographyDeprecationWarning: int_from_bytes is deprecated, use int.from_bytes instead\n",
      "  from cryptography.utils import int_from_bytes\n",
      "Defaulting to user installation because normal site-packages is not writeable\n",
      "Requirement already satisfied: scikit-image in /home/plavainne/.local/lib/python3.7/site-packages (0.18.1)\n",
      "Requirement already satisfied: imageio>=2.3.0 in /home/plavainne/.local/lib/python3.7/site-packages (from scikit-image) (2.9.0)\n",
      "Requirement already satisfied: tifffile>=2019.7.26 in /home/plavainne/.local/lib/python3.7/site-packages (from scikit-image) (2021.3.5)\n",
      "Requirement already satisfied: numpy>=1.16.5 in /home/plavainne/.local/lib/python3.7/site-packages (from scikit-image) (1.20.1)\n",
      "Requirement already satisfied: PyWavelets>=1.1.1 in /home/plavainne/.local/lib/python3.7/site-packages (from scikit-image) (1.1.1)\n",
      "Requirement already satisfied: scipy>=1.0.1 in /home/plavainne/.local/lib/python3.7/site-packages (from scikit-image) (1.4.1)\n",
      "Requirement already satisfied: matplotlib!=3.0.0,>=2.0.0 in /home/plavainne/.local/lib/python3.7/site-packages (from scikit-image) (3.3.4)\n",
      "Requirement already satisfied: networkx>=2.0 in /home/plavainne/.local/lib/python3.7/site-packages (from scikit-image) (2.5)\n",
      "Requirement already satisfied: pillow!=7.1.0,!=7.1.1,>=4.3.0 in /home/plavainne/.local/lib/python3.7/site-packages (from scikit-image) (8.1.2)\n",
      "Requirement already satisfied: kiwisolver>=1.0.1 in /home/plavainne/.local/lib/python3.7/site-packages (from matplotlib!=3.0.0,>=2.0.0->scikit-image) (1.3.1)\n",
      "Requirement already satisfied: cycler>=0.10 in /home/plavainne/.local/lib/python3.7/site-packages (from matplotlib!=3.0.0,>=2.0.0->scikit-image) (0.10.0)\n",
      "Requirement already satisfied: python-dateutil>=2.1 in /home/plavainne/.local/lib/python3.7/site-packages (from matplotlib!=3.0.0,>=2.0.0->scikit-image) (2.8.1)\n",
      "Requirement already satisfied: pyparsing!=2.0.4,!=2.1.2,!=2.1.6,>=2.0.3 in /home/plavainne/.local/lib/python3.7/site-packages (from matplotlib!=3.0.0,>=2.0.0->scikit-image) (2.4.7)\n",
      "Requirement already satisfied: six in /home/plavainne/.local/lib/python3.7/site-packages (from cycler>=0.10->matplotlib!=3.0.0,>=2.0.0->scikit-image) (1.15.0)\n",
      "Requirement already satisfied: decorator>=4.3.0 in /home/plavainne/.local/lib/python3.7/site-packages (from networkx>=2.0->scikit-image) (4.4.2)\n"
     ]
    },
    {
     "name": "stdout",
     "output_type": "stream",
     "text": [
      "WARNING: pip is being invoked by an old script wrapper. This will fail in a future version of pip.\n",
      "Please see https://github.com/pypa/pip/issues/5599 for advice on fixing the underlying issue.\n",
      "To avoid this problem you can invoke Python with '-m pip' instead of running pip directly.\n",
      "/usr/lib/python3/dist-packages/secretstorage/dhcrypto.py:15: CryptographyDeprecationWarning: int_from_bytes is deprecated, use int.from_bytes instead\n",
      "  from cryptography.utils import int_from_bytes\n",
      "/usr/lib/python3/dist-packages/secretstorage/util.py:19: CryptographyDeprecationWarning: int_from_bytes is deprecated, use int.from_bytes instead\n",
      "  from cryptography.utils import int_from_bytes\n",
      "Defaulting to user installation because normal site-packages is not writeable\n",
      "Requirement already satisfied: tensorflow in /home/plavainne/.local/lib/python3.7/site-packages (2.2.0)\n",
      "Requirement already satisfied: protobuf>=3.8.0 in /home/plavainne/.local/lib/python3.7/site-packages (from tensorflow) (3.15.5)\n",
      "Requirement already satisfied: gast==0.3.3 in /home/plavainne/.local/lib/python3.7/site-packages (from tensorflow) (0.3.3)\n",
      "Requirement already satisfied: wheel>=0.26 in /usr/lib/python3/dist-packages (from tensorflow) (0.32.3)\n",
      "Requirement already satisfied: h5py<2.11.0,>=2.10.0 in /home/plavainne/.local/lib/python3.7/site-packages (from tensorflow) (2.10.0)\n",
      "Requirement already satisfied: keras-preprocessing>=1.1.0 in /home/plavainne/.local/lib/python3.7/site-packages (from tensorflow) (1.1.2)\n",
      "Requirement already satisfied: wrapt>=1.11.1 in /home/plavainne/.local/lib/python3.7/site-packages (from tensorflow) (1.12.1)\n",
      "Requirement already satisfied: grpcio>=1.8.6 in /home/plavainne/.local/lib/python3.7/site-packages (from tensorflow) (1.36.1)\n",
      "Requirement already satisfied: absl-py>=0.7.0 in /home/plavainne/.local/lib/python3.7/site-packages (from tensorflow) (0.12.0)\n",
      "Requirement already satisfied: numpy<2.0,>=1.16.0 in /home/plavainne/.local/lib/python3.7/site-packages (from tensorflow) (1.20.1)\n",
      "Requirement already satisfied: six>=1.12.0 in /home/plavainne/.local/lib/python3.7/site-packages (from tensorflow) (1.15.0)\n",
      "Requirement already satisfied: google-pasta>=0.1.8 in /home/plavainne/.local/lib/python3.7/site-packages (from tensorflow) (0.2.0)\n",
      "Requirement already satisfied: tensorflow-estimator<2.3.0,>=2.2.0 in /home/plavainne/.local/lib/python3.7/site-packages (from tensorflow) (2.2.0)\n",
      "Requirement already satisfied: opt-einsum>=2.3.2 in /home/plavainne/.local/lib/python3.7/site-packages (from tensorflow) (3.3.0)\n",
      "Requirement already satisfied: scipy==1.4.1 in /home/plavainne/.local/lib/python3.7/site-packages (from tensorflow) (1.4.1)\n",
      "Requirement already satisfied: tensorboard<2.3.0,>=2.2.0 in /home/plavainne/.local/lib/python3.7/site-packages (from tensorflow) (2.2.2)\n",
      "Requirement already satisfied: astunparse==1.6.3 in /home/plavainne/.local/lib/python3.7/site-packages (from tensorflow) (1.6.3)\n",
      "Requirement already satisfied: termcolor>=1.1.0 in /home/plavainne/.local/lib/python3.7/site-packages (from tensorflow) (1.1.0)\n",
      "Requirement already satisfied: werkzeug>=0.11.15 in /home/plavainne/.local/lib/python3.7/site-packages (from tensorboard<2.3.0,>=2.2.0->tensorflow) (1.0.1)\n",
      "Requirement already satisfied: google-auth-oauthlib<0.5,>=0.4.1 in /home/plavainne/.local/lib/python3.7/site-packages (from tensorboard<2.3.0,>=2.2.0->tensorflow) (0.4.3)\n",
      "Requirement already satisfied: tensorboard-plugin-wit>=1.6.0 in /home/plavainne/.local/lib/python3.7/site-packages (from tensorboard<2.3.0,>=2.2.0->tensorflow) (1.8.0)\n",
      "Requirement already satisfied: setuptools>=41.0.0 in /home/plavainne/.local/lib/python3.7/site-packages (from tensorboard<2.3.0,>=2.2.0->tensorflow) (54.1.2)\n",
      "Requirement already satisfied: requests<3,>=2.21.0 in /home/plavainne/.local/lib/python3.7/site-packages (from tensorboard<2.3.0,>=2.2.0->tensorflow) (2.25.1)\n",
      "Requirement already satisfied: markdown>=2.6.8 in /home/plavainne/.local/lib/python3.7/site-packages (from tensorboard<2.3.0,>=2.2.0->tensorflow) (3.3.4)\n",
      "Requirement already satisfied: google-auth<2,>=1.6.3 in /home/plavainne/.local/lib/python3.7/site-packages (from tensorboard<2.3.0,>=2.2.0->tensorflow) (1.27.1)\n",
      "Requirement already satisfied: pyasn1-modules>=0.2.1 in /home/plavainne/.local/lib/python3.7/site-packages (from google-auth<2,>=1.6.3->tensorboard<2.3.0,>=2.2.0->tensorflow) (0.2.8)\n",
      "Requirement already satisfied: rsa<5,>=3.1.4 in /home/plavainne/.local/lib/python3.7/site-packages (from google-auth<2,>=1.6.3->tensorboard<2.3.0,>=2.2.0->tensorflow) (4.7.2)\n",
      "Requirement already satisfied: cachetools<5.0,>=2.0.0 in /home/plavainne/.local/lib/python3.7/site-packages (from google-auth<2,>=1.6.3->tensorboard<2.3.0,>=2.2.0->tensorflow) (4.2.1)\n",
      "Requirement already satisfied: requests-oauthlib>=0.7.0 in /home/plavainne/.local/lib/python3.7/site-packages (from google-auth-oauthlib<0.5,>=0.4.1->tensorboard<2.3.0,>=2.2.0->tensorflow) (1.3.0)\n",
      "Requirement already satisfied: importlib-metadata in /home/plavainne/.local/lib/python3.7/site-packages (from markdown>=2.6.8->tensorboard<2.3.0,>=2.2.0->tensorflow) (3.7.3)\n",
      "Requirement already satisfied: pyasn1<0.5.0,>=0.4.6 in /home/plavainne/.local/lib/python3.7/site-packages (from pyasn1-modules>=0.2.1->google-auth<2,>=1.6.3->tensorboard<2.3.0,>=2.2.0->tensorflow) (0.4.8)\n",
      "Requirement already satisfied: chardet<5,>=3.0.2 in /home/plavainne/.local/lib/python3.7/site-packages (from requests<3,>=2.21.0->tensorboard<2.3.0,>=2.2.0->tensorflow) (4.0.0)\n",
      "Requirement already satisfied: idna<3,>=2.5 in /home/plavainne/.local/lib/python3.7/site-packages (from requests<3,>=2.21.0->tensorboard<2.3.0,>=2.2.0->tensorflow) (2.10)\n",
      "Requirement already satisfied: urllib3<1.27,>=1.21.1 in /home/plavainne/.local/lib/python3.7/site-packages (from requests<3,>=2.21.0->tensorboard<2.3.0,>=2.2.0->tensorflow) (1.26.4)\n",
      "Requirement already satisfied: certifi>=2017.4.17 in /home/plavainne/.local/lib/python3.7/site-packages (from requests<3,>=2.21.0->tensorboard<2.3.0,>=2.2.0->tensorflow) (2020.12.5)\n",
      "Requirement already satisfied: oauthlib>=3.0.0 in /home/plavainne/.local/lib/python3.7/site-packages (from requests-oauthlib>=0.7.0->google-auth-oauthlib<0.5,>=0.4.1->tensorboard<2.3.0,>=2.2.0->tensorflow) (3.1.0)\n",
      "Requirement already satisfied: typing-extensions>=3.6.4 in /home/plavainne/.local/lib/python3.7/site-packages (from importlib-metadata->markdown>=2.6.8->tensorboard<2.3.0,>=2.2.0->tensorflow) (3.7.4.3)\n",
      "Requirement already satisfied: zipp>=0.5 in /home/plavainne/.local/lib/python3.7/site-packages (from importlib-metadata->markdown>=2.6.8->tensorboard<2.3.0,>=2.2.0->tensorflow) (3.4.1)\n",
      "WARNING: pip is being invoked by an old script wrapper. This will fail in a future version of pip.\n",
      "Please see https://github.com/pypa/pip/issues/5599 for advice on fixing the underlying issue.\n",
      "To avoid this problem you can invoke Python with '-m pip' instead of running pip directly.\n",
      "/usr/lib/python3/dist-packages/secretstorage/dhcrypto.py:15: CryptographyDeprecationWarning: int_from_bytes is deprecated, use int.from_bytes instead\n",
      "  from cryptography.utils import int_from_bytes\n",
      "/usr/lib/python3/dist-packages/secretstorage/util.py:19: CryptographyDeprecationWarning: int_from_bytes is deprecated, use int.from_bytes instead\n",
      "  from cryptography.utils import int_from_bytes\n",
      "Defaulting to user installation because normal site-packages is not writeable\n",
      "Requirement already satisfied: sklearn in /home/plavainne/.local/lib/python3.7/site-packages (0.0)\n",
      "Requirement already satisfied: scikit-learn in /home/plavainne/.local/lib/python3.7/site-packages (from sklearn) (0.22.2.post1)\n",
      "Requirement already satisfied: scipy>=0.17.0 in /home/plavainne/.local/lib/python3.7/site-packages (from scikit-learn->sklearn) (1.4.1)\n",
      "Requirement already satisfied: joblib>=0.11 in /usr/local/lib/python3.7/dist-packages (from scikit-learn->sklearn) (0.16.0)\n",
      "Requirement already satisfied: numpy>=1.11.0 in /home/plavainne/.local/lib/python3.7/site-packages (from scikit-learn->sklearn) (1.20.1)\n"
     ]
    }
   ],
   "source": [
    "#nbi:hide_in\n",
    "#nbi:hide_out\n",
    "!pip3 install matplotlib\n",
    "!pip3 install keras\n",
    "!pip3 install spectral\n",
    "!pip3 install seaborn\n",
    "!pip3 install scikit-image\n",
    "!pip3 install tensorflow\n",
    "!pip3 install sklearn"
   ]
  },
  {
   "cell_type": "code",
   "execution_count": null,
   "metadata": {},
   "outputs": [],
   "source": [
    "#nbi:hide_in\n",
    "%matplotlib inline\n",
    "import spectral as sp\n",
    "import pandas as pd\n",
    "import numpy as np\n",
    "import seaborn as sns\n",
    "import matplotlib.pyplot as plt\n",
    "from spectrum import rank_normalizer,scale_max_min,scale_white_dark,plot_spectra,zoom\n",
    "from spectrum_ml import cluster_pixels_kmeans,detect_aphid,blob_detector\n",
    "from ipywidgets import interact, interactive, widgets\n",
    "from IPython.display import display\n",
    "import io\n",
    "import os"
   ]
  },
  {
   "cell_type": "code",
   "execution_count": null,
   "metadata": {},
   "outputs": [],
   "source": [
    "chemin = widgets.Text()\n",
    "\n",
    "options = {\n",
    "    'title': 'Chemin_spectral',\n",
    "}\n",
    "\n",
    "def chm(x):\n",
    "    chemin.value = str(x)\n",
    "\n",
    "ch = interactive(chm, x = './home/jovyan/VL1grF/capture/', options = options)"
   ]
  },
  {
   "cell_type": "code",
   "execution_count": null,
   "metadata": {},
   "outputs": [],
   "source": [
    "display(ch)"
   ]
  },
  {
   "cell_type": "code",
   "execution_count": null,
   "metadata": {},
   "outputs": [],
   "source": [
    "def on_button_clicked1(b):\n",
    "    with output1:\n",
    "        output1.clear_output()\n",
    "        os.environ['KMP_DUPLICATE_LIB_OK']='True'\n",
    "        os.environ['SPECTRAL_DATA'] = chemin.value\n",
    "        print(chemin.value)"
   ]
  },
  {
   "cell_type": "code",
   "execution_count": 9,
   "metadata": {},
   "outputs": [
    {
     "data": {
      "application/vnd.jupyter.widget-view+json": {
       "model_id": "411f9a0a410642488208e14933d44f14",
       "version_major": 2,
       "version_minor": 0
      },
      "text/plain": [
       "Button(description=\"Rechargez l'environnement\", style=ButtonStyle())"
      ]
     },
     "metadata": {},
     "output_type": "display_data"
    },
    {
     "data": {
      "application/vnd.jupyter.widget-view+json": {
       "model_id": "33e66026caf045359de891af49aa771b",
       "version_major": 2,
       "version_minor": 0
      },
      "text/plain": [
       "Output()"
      ]
     },
     "metadata": {},
     "output_type": "display_data"
    }
   ],
   "source": [
    "button1 = widgets.Button(description=\"Rechargez l'environnement\")\n",
    "output1 = widgets.Output()\n",
    "display(button1, output1)\n",
    "\n",
    "button1.on_click(on_button_clicked1)"
   ]
  },
  {
   "cell_type": "code",
   "execution_count": 8,
   "metadata": {},
   "outputs": [
    {
     "data": {
      "application/vnd.jupyter.widget-view+json": {
       "model_id": "38ea5cc06eb94f8ba2604a1c741f05f2",
       "version_major": 2,
       "version_minor": 0
      },
      "text/plain": [
       "FileUpload(value={}, description='Wave_Length')"
      ]
     },
     "metadata": {},
     "output_type": "display_data"
    }
   ],
   "source": [
    "wl = widgets.FileUpload(\n",
    "    accept='',  # A/home/plavainne/Documents/BIM/06022020/06022020/VL1grF/ccepted file extension e.g. '.txt', '.pdf', 'image/*', 'image/*,.pdf'\n",
    "    multiple=False,  # True to accept multiple files upload else False\n",
    "    description = 'Wave_Length'\n",
    "    #command = ouvrir_csv()\n",
    "    #value=pd.read_csv\n",
    ")\n",
    "\n",
    "display(wl)"
   ]
  },
  {
   "cell_type": "code",
   "execution_count": null,
   "metadata": {},
   "outputs": [],
   "source": [
    "wl.value"
   ]
  },
  {
   "cell_type": "code",
   "execution_count": 20,
   "metadata": {},
   "outputs": [],
   "source": [
    "# Create text widget for output\n",
    "exp_name1 = widgets.Text()\n",
    "exp_name2 = widgets.Text()\n",
    "exp_name3 = widgets.Text()"
   ]
  },
  {
   "cell_type": "code",
   "execution_count": 22,
   "metadata": {},
   "outputs": [],
   "source": [
    "options1 = {\n",
    "    'title': 'Exp_name',\n",
    "}\n",
    "\n",
    "options2 = {\n",
    "    'title': 'Dark Ref',\n",
    "}\n",
    "\n",
    "options3 = {\n",
    "    'title': 'White Ref',\n",
    "}"
   ]
  },
  {
   "cell_type": "code",
   "execution_count": 23,
   "metadata": {},
   "outputs": [],
   "source": [
    "# Define function to bind value of the input to the output variable \n",
    "def name1(x):\n",
    "    exp_name1.value = str(x)\n",
    "\n",
    "def name2(x):\n",
    "    exp_name2.value = str(x)\n",
    "    \n",
    "def name3(x):\n",
    "    exp_name3.value = str(x)"
   ]
  },
  {
   "cell_type": "code",
   "execution_count": 24,
   "metadata": {},
   "outputs": [],
   "source": [
    "en1 = interactive(name1, x = \"./VL1grF/capture/VL1grF\", options = options1)\n",
    "en2 = interactive(name2, x = \"./VL1grF/capture/DARKREF_VL1grF\", options = options2)\n",
    "en3 = interactive(name3, x = \"./VL1grF/capture/WHITEREF_VL1grF\", options = options3)"
   ]
  },
  {
   "cell_type": "code",
   "execution_count": 25,
   "metadata": {},
   "outputs": [
    {
     "data": {
      "application/vnd.jupyter.widget-view+json": {
       "model_id": "07bf45ab54174158b248073c9f7fcb81",
       "version_major": 2,
       "version_minor": 0
      },
      "text/plain": [
       "interactive(children=(Text(value='./VL1grF/capture/VL1grF', description='x'), Output()), _dom_classes=('widget…"
      ]
     },
     "metadata": {},
     "output_type": "display_data"
    }
   ],
   "source": [
    "display(en1, options = options1)"
   ]
  },
  {
   "cell_type": "code",
   "execution_count": 26,
   "metadata": {},
   "outputs": [
    {
     "data": {
      "application/vnd.jupyter.widget-view+json": {
       "model_id": "b99df450f96348e1b465caf0edcdae57",
       "version_major": 2,
       "version_minor": 0
      },
      "text/plain": [
       "interactive(children=(Text(value='./VL1grF/capture/DARKREF_VL1grF', description='x'), Output()), _dom_classes=…"
      ]
     },
     "metadata": {},
     "output_type": "display_data"
    }
   ],
   "source": [
    "display(en2, options = options2)"
   ]
  },
  {
   "cell_type": "code",
   "execution_count": 27,
   "metadata": {},
   "outputs": [
    {
     "data": {
      "application/vnd.jupyter.widget-view+json": {
       "model_id": "19fb06e316e74aeca6b84ae5f651088d",
       "version_major": 2,
       "version_minor": 0
      },
      "text/plain": [
       "interactive(children=(Text(value='./VL1grF/capture/WHITEREF_VL1grF', description='x'), Output()), _dom_classes…"
      ]
     },
     "metadata": {},
     "output_type": "display_data"
    }
   ],
   "source": [
    "display(en3, options = options3)"
   ]
  },
  {
   "cell_type": "code",
   "execution_count": 40,
   "metadata": {},
   "outputs": [
    {
     "data": {
      "text/plain": [
       "\tData Source:   '././VL1grF/capture/VL1grF.raw'\n",
       "\t# Rows:            928\n",
       "\t# Samples:        1024\n",
       "\t# Bands:           448\n",
       "\tInterleave:        BIL\n",
       "\tQuantization:  16 bits\n",
       "\tData format:    uint16"
      ]
     },
     "execution_count": 40,
     "metadata": {},
     "output_type": "execute_result"
    }
   ],
   "source": [
    "image_path = exp_name1.value + '.hdr'\n",
    "img = sp.envi.open(image_path)\n",
    "img"
   ]
  },
  {
   "cell_type": "code",
   "execution_count": 28,
   "metadata": {},
   "outputs": [],
   "source": [
    "def on_button_clicked2(b):\n",
    "    with output2:\n",
    "        \n",
    "        output2.clear_output()\n",
    "        wave_lengths = pd.read_csv(io.BytesIO(wl.value[list(wl.value.keys())[0]]['content']), header=None, index_col=0)\n",
    "        image_path = exp_name1.value + '.hdr'#current_dir.value+exp_name1.value+'/capture/'+exp_name1.value+'.hdr'\n",
    "        dark_ref_path = exp_name2.value + '.hdr'#current_dir.value+exp_name.value+'/capture/DARKREF_'+exp_name.value+'.hdr'\n",
    "        white_ref_path = exp_name3.value + '.hdr'#current_dir.value+exp_name.value+'/capture/WHITEREF_'+exp_name.value+'.hdr'\n",
    "        \n",
    "        image_name = exp_name1.value + '.raw'#current_dir.value+exp_name1.value+'/capture/'+exp_name1.value+'.hdr'\n",
    "        dark_ref_name = exp_name2.value + '.raw' #current_dir.value+exp_name.value+'/capture/DARKREF_'+exp_name.value+'.hdr'\n",
    "        white_ref_name = exp_name3.value + '.raw' #current_dir.value+exp_name.value+'/capture/WHITEREF_'+exp_name.value+'.hdr'\n",
    "        \n",
    "        img = sp.envi.open(image_path)\n",
    "\n",
    "        dark_ref = sp.open_image(dark_ref_path)#, dark_ref_name)\n",
    "        dark_spectrum = dark_ref.asarray().reshape(-1,dark_ref.shape[2]).mean(axis=0)\n",
    "\n",
    "        white_ref = sp.open_image(white_ref_path)#, white_ref_name)\n",
    "        white_spectrum = white_ref.asarray().reshape(-1,white_ref.shape[2]).mean(axis=0)\n",
    "        \n",
    "        img_norm = scale_white_dark(img.asarray(),dark_spectrum=dark_spectrum,white_spectrum=white_spectrum)\n",
    "        img_norm = scale_max_min(img_norm)\n",
    "        \n",
    "        img_norm_reshape = img_norm.reshape(-1,img_norm.shape[-1])\n",
    "        \n",
    "        print(img.shape)\n",
    "        plot_spectra(img,  wave_lengths=(29,113,227), grid_step=20)\n",
    "        plt.show()\n",
    "        \n",
    "        pixels_sample = img_norm_reshape[np.random.choice(img_norm_reshape.shape[0], 5000, replace=False)]\n",
    "        km = cluster_pixels_kmeans(pixels_sample,10)\n",
    "        \n",
    "        c = km.predict(img_norm_reshape)\n",
    "        sns.heatmap(c.reshape(img_norm.shape[:2]),cmap='Paired')\n",
    "        plt.show()\n",
    "        \n",
    "        cluster_scores = detect_aphid(km.cluster_centers_,\n",
    "                 model_files=[\"ML_models/model_vae_1Dconv\"],\n",
    "                 svm_model_pf='ML_models/SVM_pf_rank.model',\n",
    "                 svm_model_p='ML_models/SVM_p_rank.model')\n",
    "        \n",
    "        best_cluster = np.argmax(cluster_scores)\n",
    "        ############################################\n",
    "        # Changer le cluster si besoin\n",
    "        #best_cluster = 0\n",
    "        ############################################\n",
    "        print(best_cluster)\n",
    "        \n",
    "        \n",
    "        plt.plot(cluster_scores,\"o\")\n",
    "        plt.xlabel(\"Cluster ID\")\n",
    "        plt.ylabel(\"Aphid Score\")\n",
    "        plt.show()\n",
    "        \n",
    "        sns.heatmap((c==best_cluster).reshape(img_norm.shape[:2]))\n",
    "        plt.show()\n",
    "        \n",
    "        chosen_pixels = img_norm_reshape[(c==best_cluster)]\n",
    "        scores_aphids = detect_aphid(chosen_pixels,\n",
    "                             model_files=[\"ML_models/model_vae_1Dconv\"],\n",
    "                             svm_model_pf='ML_models/SVM_pf_rank.model',\n",
    "                             svm_model_p='ML_models/SVM_p_rank.model')\n",
    "        \n",
    "        sns.violinplot(scores_aphids)\n",
    "        plt.xlabel(\"Aphid score\")\n",
    "        plt.show()\n",
    "        \n",
    "        cc = pd.Series(c.copy())\n",
    "        cc[c!=best_cluster] = 0\n",
    "        cc[c==best_cluster] = 1\n",
    "        cc[c==best_cluster] *= scores_aphids\n",
    "        #cc2 = cc >0.7#> np.percentile(cc,99.9)\n",
    "        \n",
    "        sns.heatmap(cc.values.reshape(img_norm.shape[:2]))\n",
    "        #sns.heatmap(cc2.values.reshape(img_norm.shape[:2]))\n",
    "        plt.show()\n"
   ]
  },
  {
   "cell_type": "code",
   "execution_count": 29,
   "metadata": {},
   "outputs": [
    {
     "data": {
      "application/vnd.jupyter.widget-view+json": {
       "model_id": "b64d7f88ddc14b559bd450e0006b467a",
       "version_major": 2,
       "version_minor": 0
      },
      "text/plain": [
       "Button(description='Rechargez les donnees', style=ButtonStyle())"
      ]
     },
     "metadata": {},
     "output_type": "display_data"
    },
    {
     "data": {
      "application/vnd.jupyter.widget-view+json": {
       "model_id": "c997af1fa4664bc6a3e0ff7e62613709",
       "version_major": 2,
       "version_minor": 0
      },
      "text/plain": [
       "Output()"
      ]
     },
     "metadata": {},
     "output_type": "display_data"
    }
   ],
   "source": [
    "button2 = widgets.Button(description=\"Rechargez les donnees\")\n",
    "output2 = widgets.Output()\n",
    "display(button2, output2)\n",
    "\n",
    "button2.on_click(on_button_clicked2)"
   ]
  },
  {
   "cell_type": "code",
   "execution_count": null,
   "metadata": {},
   "outputs": [],
   "source": []
  },
  {
   "cell_type": "code",
   "execution_count": null,
   "metadata": {},
   "outputs": [],
   "source": []
  },
  {
   "cell_type": "code",
   "execution_count": 9,
   "metadata": {},
   "outputs": [],
   "source": [
    "from tkinter import Button\n",
    "from tkinter import Label\n",
    "from tkinter import StringVar\n",
    "from tkinter import Tk\n",
    "from tkinter.filedialog import askopenfilename\n",
    "import os, os.path\n",
    "\n",
    " \n",
    "def on_button_clicked3(b):\n",
    "    with output3:\n",
    "        !echo ${DISPLAY}\n",
    "        !grep \"# AutomaticLogin\" /etc/gdm3/custom.conf >/dev/null && export ${DISPLAY}=\":1\" || export ${DISPLAY}=\":0\"\n",
    "        #os.environ['${DISPLAY}']\n",
    "        print(os.environ.items())\n",
    "        os.environ['QT_QPA_PLATFORM']='offscreen'\n",
    "        os.environ['${DISPLAY}']= ':0.0'\n",
    "        \n",
    "        !export ${DISPLAY}=:0.0\n",
    "        \n",
    "        if os.environ.get('${DISPLAY}','') == '':\n",
    "            print('no display found. Using :0.0')\n",
    "            os.environ.__setitem__('${DISPLAY}', ':0.0')\n",
    "  \n",
    "        FILETYPES = [ (\"All files\", \"*\") ]\n",
    "\n",
    "\n",
    "\n",
    "        root = Tk()\n",
    "\n",
    "        filename = StringVar(root)\n",
    "\n",
    "\n",
    "\n",
    "        label = Label(root, textvariable=filename)\n",
    "        label.pack()\n",
    "\n",
    "\n",
    "\n",
    "         #def set_filename():\n",
    "            #filename.set(sp.open_image(askopenfilename(filetypes=FILETYPES)))\n",
    "            #print(filename)\n",
    "            #dark_ref = sp.open_image(askopenfilename(filetypes=FILETYPES))\n",
    "            #filename.set(askopenfilename(filetypes=FILETYPES))\n",
    "            \n",
    "\n",
    "        #button = Button(root, text='Open', command=set_filename)\n",
    "        #button.pack()\n",
    "        dark_ref = sp.open_image(askopenfilename(filetypes=FILETYPES))\n",
    "        root.mainloop()\n",
    "        \n",
    "        print(dark_ref)\n"
   ]
  },
  {
   "cell_type": "code",
   "execution_count": 10,
   "metadata": {},
   "outputs": [
    {
     "data": {
      "application/vnd.jupyter.widget-view+json": {
       "model_id": "cd070d07af054ec095b3a2291b06e3f7",
       "version_major": 2,
       "version_minor": 0
      },
      "text/plain": [
       "Button(description='Rechargez les donnees', style=ButtonStyle())"
      ]
     },
     "metadata": {},
     "output_type": "display_data"
    },
    {
     "data": {
      "application/vnd.jupyter.widget-view+json": {
       "model_id": "02f62dee596a45daa5a50bf37b5e1e07",
       "version_major": 2,
       "version_minor": 0
      },
      "text/plain": [
       "Output()"
      ]
     },
     "metadata": {},
     "output_type": "display_data"
    }
   ],
   "source": [
    "button3 = widgets.Button(description=\"Rechargez les donnees\")\n",
    "output3 = widgets.Output()\n",
    "display(button3, output3)\n",
    "\n",
    "button3.on_click(on_button_clicked3)"
   ]
  },
  {
   "cell_type": "code",
   "execution_count": 6,
   "metadata": {},
   "outputs": [],
   "source": [
    "from os.path import expanduser\n",
    "import sys\n",
    "from PyQt5.QtCore import Qt\n",
    "from PyQt5.QtWidgets import QApplication, QWidget\n",
    "\n",
    "from ipywidgets import interact, interactive, widgets\n",
    "\n",
    "def on_button_clicked4(b):\n",
    "    with output4:\n",
    "        class Fenetre(QWidget):\n",
    "            def __init__(self):\n",
    "                QWidget.__init__(self)\n",
    "                self.setWindowTitle(\"Ma fenetre\")\n",
    "\n",
    "            def mousePressEvent(self,event):\n",
    "                if event.button() == Qt.LeftButton:\n",
    "                    print(\"appui bouton gauche\")\n",
    "                    print(\"position = \" + str(event.x()) + \" \" + str(event.y()))\n",
    "\n",
    "        app = QApplication.instance() \n",
    "        if not app:\n",
    "            app = QApplication(sys.argv)\n",
    "\n",
    "        fen = Fenetre()\n",
    "        fen.show()\n",
    "\n",
    "        app.exec_()"
   ]
  },
  {
   "cell_type": "code",
   "execution_count": 7,
   "metadata": {},
   "outputs": [
    {
     "data": {
      "application/vnd.jupyter.widget-view+json": {
       "model_id": "1fc1ddaeecb94c408dfb1f37aebef7f1",
       "version_major": 2,
       "version_minor": 0
      },
      "text/plain": [
       "Button(description='Rechargez les donnees', style=ButtonStyle())"
      ]
     },
     "metadata": {},
     "output_type": "display_data"
    },
    {
     "data": {
      "application/vnd.jupyter.widget-view+json": {
       "model_id": "486323b8783944409df4ed58d49af903",
       "version_major": 2,
       "version_minor": 0
      },
      "text/plain": [
       "Output()"
      ]
     },
     "metadata": {},
     "output_type": "display_data"
    }
   ],
   "source": [
    "button4 = widgets.Button(description=\"Rechargez les donnees\")\n",
    "output4 = widgets.Output()\n",
    "display(button4, output4)\n",
    "\n",
    "button4.on_click(on_button_clicked4)"
   ]
  },
  {
   "cell_type": "code",
   "execution_count": 31,
   "metadata": {},
   "outputs": [
    {
     "data": {
      "application/vnd.jupyter.widget-view+json": {
       "model_id": "59858850daee475680813e57c2430d09",
       "version_major": 2,
       "version_minor": 0
      },
      "text/plain": [
       "FileUpload(value={}, description='Wave_Length')"
      ]
     },
     "metadata": {},
     "output_type": "display_data"
    }
   ],
   "source": [
    "wl = widgets.FileUpload(\n",
    "    accept='',  # A/home/plavainne/Documents/BIM/06022020/06022020/VL1grF/ccepted file extension e.g. '.txt', '.pdf', 'image/*', 'image/*,.pdf'\n",
    "    multiple=False,  # True to accept multiple files upload else False\n",
    "    description = 'Wave_Length',\n",
    "    command = pd.read_csv\n",
    "    #value=pd.read_csv\n",
    ")\n",
    "\n",
    "display(wl)\n",
    "\n"
   ]
  },
  {
   "cell_type": "code",
   "execution_count": 11,
   "metadata": {},
   "outputs": [
    {
     "ename": "IndentationError",
     "evalue": "unexpected indent (<ipython-input-11-24d9fd19d680>, line 4)",
     "output_type": "error",
     "traceback": [
      "\u001b[0;36m  File \u001b[0;32m\"<ipython-input-11-24d9fd19d680>\"\u001b[0;36m, line \u001b[0;32m4\u001b[0m\n\u001b[0;31m    app = QApplication([])\u001b[0m\n\u001b[0m    ^\u001b[0m\n\u001b[0;31mIndentationError\u001b[0m\u001b[0;31m:\u001b[0m unexpected indent\n"
     ]
    }
   ],
   "source": [
    "from PyQt5.QtWidgets import *\n",
    "home_directory = expanduser('~')\n",
    "\n",
    "        app = QApplication([])\n",
    "        model = QDirModel()\n",
    "        view = QTreeView()\n",
    "        view.setModel(model)\n",
    "        view.setRootIndex(model.index(home_directory))\n",
    "        view.show()\n",
    "        app.exec_()"
   ]
  },
  {
   "cell_type": "code",
   "execution_count": null,
   "metadata": {},
   "outputs": [],
   "source": []
  }
 ],
 "metadata": {
  "kernelspec": {
   "display_name": "Python 3",
   "language": "python",
   "name": "python3"
  },
  "language_info": {
   "codemirror_mode": {
    "name": "ipython",
    "version": 3
   },
   "file_extension": ".py",
   "mimetype": "text/x-python",
   "name": "python",
   "nbconvert_exporter": "python",
   "pygments_lexer": "ipython3",
   "version": "3.7.3"
  }
 },
 "nbformat": 4,
 "nbformat_minor": 2
}
