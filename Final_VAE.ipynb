{
 "cells": [
  {
   "cell_type": "code",
   "execution_count": 9,
   "metadata": {},
   "outputs": [],
   "source": [
    "\n",
    "%matplotlib inline\n",
    "import spectral as sp\n",
    "import pandas as pd\n",
    "import numpy as np\n",
    "import seaborn as sns\n",
    "import matplotlib.pyplot as plt\n",
    "from tensorflow import keras\n",
    "from spectrum import *\n",
    "from spectrum_ml import *\n",
    "from ipywidgets import interact, interactive, widgets\n",
    "from IPython.display import display\n",
    "import os, os.path, io\n",
    "from tkinter import Button\n",
    "from tkinter import Label\n",
    "from tkinter import StringVar\n",
    "from tkinter import Tk\n",
    "from tkinter.filedialog import askopenfilename\n",
    "from scipy.stats import rankdata\n",
    "import sklearn\n",
    "from keras.layers import Input, Dense, Conv1D, Conv2DTranspose,Lambda,Flatten,Reshape\n",
    "from keras.models import Model\n",
    "from keras import regularizers\n",
    "from keras import backend as K\n",
    "from keras.utils import plot_model\n",
    "from keras.losses import mse, binary_crossentropy\n",
    "from keras.losses import MAPE, cosine_similarity, MSLE, mae\n",
    "import tensorflow as tf\n",
    "from sklearn import metrics,svm\n",
    "from sklearn.svm import OneClassSVM\n",
    "from sklearn.model_selection import train_test_split\n",
    "from sklearn.preprocessing import LabelEncoder\n",
    "import joblib"
   ]
  },
  {
   "cell_type": "code",
   "execution_count": 16,
   "metadata": {},
   "outputs": [],
   "source": [
    "def on_button_clicked1(b):\n",
    "    with output1:\n",
    "        output1.clear_output()\n",
    "        \n",
    "        os.environ['KMP_DUPLICATE_LIB_OK']='True'\n",
    "        print(\"Environnement Chargé\")\n",
    "        "
   ]
  },
  {
   "cell_type": "code",
   "execution_count": 17,
   "metadata": {},
   "outputs": [
    {
     "data": {
      "application/vnd.jupyter.widget-view+json": {
       "model_id": "3ae5edec79a94bc7ad926d4b06b65566",
       "version_major": 2,
       "version_minor": 0
      },
      "text/plain": [
       "Button(description=\"Rechargez l'environnement\", style=ButtonStyle())"
      ]
     },
     "metadata": {},
     "output_type": "display_data"
    },
    {
     "data": {
      "application/vnd.jupyter.widget-view+json": {
       "model_id": "181c9b3ed73d497799e291855cef1fa9",
       "version_major": 2,
       "version_minor": 0
      },
      "text/plain": [
       "Output()"
      ]
     },
     "metadata": {},
     "output_type": "display_data"
    }
   ],
   "source": [
    "button1 = widgets.Button(description=\"Rechargez l'environnement\")\n",
    "output1 = widgets.Output()\n",
    "display(button1, output1)\n",
    "\n",
    "button1.on_click(on_button_clicked1)"
   ]
  },
  {
   "cell_type": "code",
   "execution_count": 18,
   "metadata": {},
   "outputs": [
    {
     "data": {
      "application/vnd.jupyter.widget-view+json": {
       "model_id": "8d298592bbd84657b195362d44811073",
       "version_major": 2,
       "version_minor": 0
      },
      "text/plain": [
       "FileUpload(value={}, description='Fichier CSV')"
      ]
     },
     "metadata": {},
     "output_type": "display_data"
    }
   ],
   "source": [
    "wl_bis = widgets.FileUpload(\n",
    "    accept='', \n",
    "    multiple=False,  \n",
    "    description = 'Fichier CSV'\n",
    "    )\n",
    "\n",
    "display(wl_bis)"
   ]
  },
  {
   "cell_type": "code",
   "execution_count": 21,
   "metadata": {},
   "outputs": [],
   "source": [
    "def on_button_clicked2(b):\n",
    "    with output2:\n",
    "        output2.clear_output()\n",
    "            \n",
    "        loaded_model = tf.keras.models.model_from_json(open('./train_models/loaded_model_v2_sqrtmse_loss.json').read())\n",
    "        loaded_model.load_weights(\"./train_models/loaded_model_v2_sqrtmse_loss.h5\")\n",
    "        loaded_model.compile(optimizer='RMSprop')\n",
    "        SVM_MSE = joblib.load('./train_models/SVM_spectral_classifier_MSE.pkl')\n",
    "            \n",
    "        X = pd.read_csv(\"./train_models/average_profile_no_outlier.csv\",index_col=[0,1,2])\n",
    "        X = X.iloc[np.random.randint(0,X.shape[0],300),:]\n",
    "        X += np.random.randn(*X.shape)*0.01\n",
    "        neg = pd.read_csv(\"./train_models/spectrum_avg_norm.csv\",index_col=0).iloc[:3,:]\n",
    "        neg = pd.concat((neg,pd.read_csv(\"./train_models/feuille_spectrum_avg_norm.csv\",index_col=0)))\n",
    "        neg = neg.iloc[np.random.randint(0,3,300),:]\n",
    "        neg += np.random.randn(*neg.shape)*0.01\n",
    "        #Spectre_test = pd.read_csv(\"test_spectrum_avg_norm.csv\",index_col=0)\n",
    "        Spectre_test = pd.read_csv(io.BytesIO(wl_bis.value[list(wl_bis.value.keys())[0]]['content']), index_col=0)\n",
    "        #Spectre_test\n",
    "            \n",
    "        X_test = X\n",
    "        decoded_X_test = loaded_model.predict(X)\n",
    "        decoded_neg = loaded_model.predict(neg)\n",
    "        decoded_Spectre_test = loaded_model.predict(Spectre_test)\n",
    "            \n",
    "        #plt.plot(decoded_X.T)\n",
    "        plt.plot(decoded_Spectre_test.T, \"b\")\n",
    "        plt.plot(Spectre_test.T, \"red\")\n",
    "        #plt.plot(neg[:20].T,\"green\", alpha = 0.2)\n",
    "        #plt.plot(decoded_neg[:20].T , \"black\", alpha = 0.2)\n",
    "        plt.show()\n",
    "            \n",
    "        lim_inf = 0\n",
    "        lim_sup = 448\n",
    "\n",
    "        \"\"\"\n",
    "        mse_feuille = np.array(mse(decoded_neg,neg.iloc))\n",
    "        mse_puceron = np.array(mse(decoded_X, X.iloc))\n",
    "        mse_Spectre = np.array(mse(decoded_Spectre_test, Spectre_test.iloc))\n",
    "        \"\"\"\n",
    "\n",
    "        mse_feuille = np.array(mse(decoded_neg[:,lim_inf:lim_sup],neg.iloc[:,lim_inf:lim_sup]))\n",
    "        mse_puceron = np.array(mse(decoded_X_test[:,lim_inf:lim_sup], X_test.iloc[:,lim_inf:lim_sup]))\n",
    "        mse_Spectre = np.array(mse(decoded_Spectre_test[:,lim_inf:lim_sup], Spectre_test.iloc[:,lim_inf:lim_sup]))\n",
    "\n",
    "\n",
    "        sqrt_mse_p = np.array(np.sqrt(mse(decoded_X_test[:,lim_inf:lim_sup], X_test.iloc[:,lim_inf:lim_sup])))\n",
    "        sqrt_mse_f = np.array(np.sqrt(mse(decoded_neg[:,lim_inf:lim_sup], neg.iloc[:,lim_inf:lim_sup])))\n",
    "        sqrt_Spectre = np.array(np.sqrt(mse(decoded_Spectre_test[:,lim_inf:lim_sup], Spectre_test.iloc[:,lim_inf:lim_sup])))\n",
    "\n",
    "        mape_feuille = np.array(MAPE(decoded_neg[:,lim_inf:lim_sup], neg.iloc[:,lim_inf:lim_sup]))\n",
    "        mape_puceron = np.array(MAPE(decoded_X_test[:,lim_inf:lim_sup], X_test.iloc[:,lim_inf:lim_sup]))\n",
    "        mape_Spectre = np.array(MAPE(decoded_Spectre_test[:,lim_inf:lim_sup], Spectre_test.iloc[:,lim_inf:lim_sup]))\n",
    "\n",
    "        mselog_feuille = np.array(MSLE(decoded_neg[:,lim_inf:lim_sup], neg.iloc[:,lim_inf:lim_sup]))\n",
    "        mselog_puceron = np.array(MSLE(decoded_X_test[:,lim_inf:lim_sup], X_test.iloc[:,lim_inf:lim_sup]))\n",
    "        mselog_Spectre = np.array(MSLE(decoded_Spectre_test[:,lim_inf:lim_sup], Spectre_test.iloc[:,lim_inf:lim_sup]))\n",
    "            \n",
    "        bins = np.linspace(-0.001, 0.1, 150)\n",
    "\n",
    "        plt.hist(mse_feuille, bins, alpha=0.5, label='feuille')\n",
    "        plt.hist(mse_puceron, bins, alpha=0.5, label='puceron')\n",
    "        plt.hist(mse_Spectre, bins, alpha=1, label = \"Spectre\")\n",
    "        plt.ylim(-0.1,6)\n",
    "        plt.legend(loc='upper left')\n",
    "        plt.title(\"MSE\")\n",
    "        plt.show()\n",
    "            \n",
    "        bins = np.linspace(-0.0, 0.3, 150)\n",
    "\n",
    "        plt.hist(sqrt_mse_f, bins, alpha=0.5, label='feuille')\n",
    "        plt.hist(sqrt_mse_p, bins, alpha=0.5, label='puceron')\n",
    "        plt.hist(sqrt_Spectre, bins, alpha=1, label = \"Spectre\")\n",
    "        plt.ylim(-0.1,6)\n",
    "        plt.legend(loc='upper left')\n",
    "        plt.title(\"SQRT(MSE)\")\n",
    "        plt.show()\n",
    "            \n",
    "        bins = np.linspace(-0.001, 0.003, 100)\n",
    "\n",
    "        plt.hist(mselog_feuille, bins, alpha=0.5, label='feuille')\n",
    "        plt.hist(mselog_puceron, bins, alpha=0.5, label='puceron')\n",
    "        plt.hist(mselog_Spectre, bins, alpha=1, label = \"Spectre\")\n",
    "        plt.ylim(-1,10)\n",
    "        plt.legend(loc='upper left')\n",
    "        plt.title(\"Log(MSE)\")\n",
    "        plt.show()\n",
    "            \n",
    "        bins = np.linspace(-0.01, 100, 150)\n",
    "\n",
    "        plt.hist(mape_feuille, bins, alpha=0.5, label='feuille')\n",
    "        plt.hist(mape_puceron, bins, alpha=0.5, label='puceron')\n",
    "        plt.hist(mape_Spectre, bins, alpha=1, label = \"Spectre\")\n",
    "        plt.legend(loc='upper left')\n",
    "        plt.title(\"MAPE\")\n",
    "        plt.show()\n",
    "            \n",
    "        print(Spectre_test)\n",
    "        print(mse_Spectre)\n",
    "        PREDICTION_SPECTRE = SVM_MSE.predict(np.array(mse_Spectre).reshape(-1,1))\n",
    "        print(\"\\n Prediction du spectre :\")\n",
    "        list_pred = []\n",
    "        for i,e in enumerate(Spectre_test.index):\n",
    "            list_pred.append((str(e)+\" : \"+str(PREDICTION_SPECTRE[i])))\n",
    "        #print(Spectre_test.index)\n",
    "        #print(PREDICTION_SPECTRE)\n",
    "        print(list_pred)\n",
    "    \n",
    "    "
   ]
  },
  {
   "cell_type": "code",
   "execution_count": 22,
   "metadata": {},
   "outputs": [
    {
     "data": {
      "application/vnd.jupyter.widget-view+json": {
       "model_id": "24b38e8e1cf74da9a6a272a5c7205bae",
       "version_major": 2,
       "version_minor": 0
      },
      "text/plain": [
       "Button(description='VAE', style=ButtonStyle())"
      ]
     },
     "metadata": {},
     "output_type": "display_data"
    },
    {
     "data": {
      "application/vnd.jupyter.widget-view+json": {
       "model_id": "c75162aa18a740c483c5e43525d53992",
       "version_major": 2,
       "version_minor": 0
      },
      "text/plain": [
       "Output()"
      ]
     },
     "metadata": {},
     "output_type": "display_data"
    }
   ],
   "source": [
    "button2 = widgets.Button(description=\"VAE\")\n",
    "output2 = widgets.Output()\n",
    "display(button2, output2)\n",
    "\n",
    "button2.on_click(on_button_clicked2)"
   ]
  },
  {
   "cell_type": "code",
   "execution_count": null,
   "metadata": {},
   "outputs": [],
   "source": []
  }
 ],
 "metadata": {
  "kernelspec": {
   "display_name": "Python 3",
   "language": "python",
   "name": "python3"
  },
  "language_info": {
   "codemirror_mode": {
    "name": "ipython",
    "version": 3
   },
   "file_extension": ".py",
   "mimetype": "text/x-python",
   "name": "python",
   "nbconvert_exporter": "python",
   "pygments_lexer": "ipython3",
   "version": "3.7.3"
  }
 },
 "nbformat": 4,
 "nbformat_minor": 2
}
