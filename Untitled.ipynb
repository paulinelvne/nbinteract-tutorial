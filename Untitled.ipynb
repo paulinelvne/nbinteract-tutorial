{
 "cells": [
  {
   "cell_type": "code",
   "execution_count": 5,
   "metadata": {},
   "outputs": [
    {
     "name": "stdout",
     "output_type": "stream",
     "text": [
      "Requirement already satisfied: tk in /srv/conda/envs/notebook/lib/python3.7/site-packages (0.1.0)\r\n"
     ]
    }
   ],
   "source": [
    "!pip3 install tk"
   ]
  },
  {
   "cell_type": "code",
   "execution_count": 6,
   "metadata": {},
   "outputs": [],
   "source": [
    "import tk"
   ]
  },
  {
   "cell_type": "code",
   "execution_count": 8,
   "metadata": {},
   "outputs": [
    {
     "data": {
      "application/vnd.jupyter.widget-view+json": {
       "model_id": "0c8867a1a0014f02b0d60f8478ea3c20",
       "version_major": 2,
       "version_minor": 0
      },
      "text/plain": [
       "Button(description='Tkinter', style=ButtonStyle())"
      ]
     },
     "metadata": {},
     "output_type": "display_data"
    },
    {
     "data": {
      "application/vnd.jupyter.widget-view+json": {
       "model_id": "2acfc0a12c4c4b6ab14fc76ed5bcf2e8",
       "version_major": 2,
       "version_minor": 0
      },
      "text/plain": [
       "Output()"
      ]
     },
     "metadata": {},
     "output_type": "display_data"
    }
   ],
   "source": [
    "from ipywidgets import interact, interactive, widgets\n",
    "from tkinter import *\n",
    "\n",
    "def on_button_clicked4(b):\n",
    "    with output:\n",
    "        root = Tk()\n",
    "        label = Label(root, text=\"Hello World\")\n",
    "        label.pack()\n",
    "        root.mainloop()\n",
    "\n",
    "button = widgets.Button(description = \"Tkinter\")\n",
    "output = widgets.Output()\n",
    "display(button, output)\n",
    "\n",
    "button.on_click(on_button_clicked4)"
   ]
  },
  {
   "cell_type": "code",
   "execution_count": null,
   "metadata": {},
   "outputs": [],
   "source": []
  }
 ],
 "metadata": {
  "kernelspec": {
   "display_name": "Python 3",
   "language": "python",
   "name": "python3"
  },
  "language_info": {
   "codemirror_mode": {
    "name": "ipython",
    "version": 3
   },
   "file_extension": ".py",
   "mimetype": "text/x-python",
   "name": "python",
   "nbconvert_exporter": "python",
   "pygments_lexer": "ipython3",
   "version": "3.7.10"
  }
 },
 "nbformat": 4,
 "nbformat_minor": 2
}
