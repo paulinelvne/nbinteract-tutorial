{
 "cells": [
  {
   "cell_type": "code",
   "execution_count": 6,
   "metadata": {},
   "outputs": [
    {
     "data": {
      "application/vnd.jupyter.widget-view+json": {
       "model_id": "12984e01912345d1a5c63e83cb022a14",
       "version_major": 2,
       "version_minor": 0
      },
      "text/plain": [
       "Button(description='Tkinter', style=ButtonStyle())"
      ]
     },
     "metadata": {},
     "output_type": "display_data"
    },
    {
     "data": {
      "application/vnd.jupyter.widget-view+json": {
       "model_id": "5df17b9650b549c2a03c98357fd31799",
       "version_major": 2,
       "version_minor": 0
      },
      "text/plain": [
       "Output()"
      ]
     },
     "metadata": {},
     "output_type": "display_data"
    }
   ],
   "source": [
    "from ipywidgets import interact, interactive, widgets\n",
    "from tkinter import *\n",
    "\n",
    "def on_button_clicked4(b):\n",
    "    with output4:\n",
    "        root = Tk()\n",
    "        label = Label(root, text=\"Hello World\")\n",
    "        label.pack()\n",
    "        root.mainloop()\n",
    "\n",
    "button = widgets.Button(description = \"Tkinter\")\n",
    "output = widgets.Output()\n",
    "display(button, output)\n",
    "\n",
    "button.on_click(on_button_clicked4)"
   ]
  },
  {
   "cell_type": "code",
   "execution_count": null,
   "metadata": {},
   "outputs": [],
   "source": []
  }
 ],
 "metadata": {
  "kernelspec": {
   "display_name": "Python 3",
   "language": "python",
   "name": "python3"
  },
  "language_info": {
   "codemirror_mode": {
    "name": "ipython",
    "version": 3
   },
   "file_extension": ".py",
   "mimetype": "text/x-python",
   "name": "python",
   "nbconvert_exporter": "python",
   "pygments_lexer": "ipython3",
   "version": "3.8.5"
  }
 },
 "nbformat": 4,
 "nbformat_minor": 2
}
